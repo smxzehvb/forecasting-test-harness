{
 "cells": [
  {
   "cell_type": "code",
   "execution_count": null,
   "id": "df98ff35",
   "metadata": {},
   "outputs": [],
   "source": [
    "import math, itertools, uuid\n",
    "import numpy as np\n",
    "import pandas as pd\n",
    "import matplotlib\n",
    "import matplotlib.pyplot as plt\n",
    "plt.style.use('seaborn-darkgrid')"
   ]
  },
  {
   "cell_type": "code",
   "execution_count": null,
   "id": "4e03214e",
   "metadata": {},
   "outputs": [],
   "source": [
    "import statsmodels.api as sm\n",
    "import statsmodels.discrete.discrete_model as dm\n",
    "from statsmodels.tsa.arima.model import ARIMA\n",
    "from statsmodels.tsa.api import ExponentialSmoothing, SimpleExpSmoothing, Holt\n",
    "from statsmodels.tsa.deterministic import TimeTrend, Seasonality\n",
    "from statsmodels.tools.eval_measures import rmse, mse, medianabs, meanabs, iqr"
   ]
  },
  {
   "cell_type": "code",
   "execution_count": null,
   "id": "ac6fd625",
   "metadata": {},
   "outputs": [],
   "source": [
    "import warnings\n",
    "from statsmodels.tools.sm_exceptions import ConvergenceWarning\n",
    "warnings.simplefilter('ignore', ConvergenceWarning)"
   ]
  },
  {
   "cell_type": "code",
   "execution_count": null,
   "id": "a1c40826",
   "metadata": {},
   "outputs": [],
   "source": [
    "# data\n",
    "# https://data.cityofnewyork.us/Transportation/Bicycle-Counts-for-East-River-Bridges-Historical-/gua4-p9wg"
   ]
  },
  {
   "cell_type": "code",
   "execution_count": null,
   "id": "8f00c904",
   "metadata": {},
   "outputs": [],
   "source": [
    "bikes = pd.read_csv('bikes.csv', header=0, index_col='Date')"
   ]
  },
  {
   "cell_type": "code",
   "execution_count": null,
   "id": "5c0bef90",
   "metadata": {},
   "outputs": [],
   "source": [
    "bikes.index = pd.DatetimeIndex(bikes.index, freq='infer')"
   ]
  },
  {
   "cell_type": "code",
   "execution_count": null,
   "id": "ed9354df",
   "metadata": {},
   "outputs": [],
   "source": [
    "bikes.shape"
   ]
  },
  {
   "cell_type": "code",
   "execution_count": null,
   "id": "f4324a06",
   "metadata": {},
   "outputs": [],
   "source": [
    "bikes.head()"
   ]
  },
  {
   "cell_type": "code",
   "execution_count": null,
   "id": "b4a22c3b",
   "metadata": {},
   "outputs": [],
   "source": [
    "bikes.tail()"
   ]
  },
  {
   "cell_type": "code",
   "execution_count": null,
   "id": "b503b054",
   "metadata": {},
   "outputs": [],
   "source": [
    "ax = bikes.plot(figsize=(9,6), lw=1, )\n",
    "plt.title('Daily bikes (all bridges)')"
   ]
  },
  {
   "cell_type": "code",
   "execution_count": null,
   "id": "858d2830",
   "metadata": {},
   "outputs": [],
   "source": [
    "bikes_roll = bikes.rolling(window=4, step=4).sum().reset_index()\n"
   ]
  },
  {
   "cell_type": "code",
   "execution_count": null,
   "id": "6767d40f",
   "metadata": {},
   "outputs": [],
   "source": [
    "ax = bikes_roll.plot(figsize=(9,6), lw=1, )\n",
    "plt.title('4-day bikes (all bridges)')"
   ]
  },
  {
   "cell_type": "code",
   "execution_count": null,
   "id": "2ce6de8a",
   "metadata": {},
   "outputs": [],
   "source": []
  },
  {
   "cell_type": "markdown",
   "id": "7b5662b7",
   "metadata": {},
   "source": [
    "# Forecasting pipeline"
   ]
  },
  {
   "cell_type": "code",
   "execution_count": null,
   "id": "2ab6d93a",
   "metadata": {},
   "outputs": [],
   "source": [
    "def naive_forecast(series_train, series_test, h=1, period=1, use_seasonal=True):\n",
    "    if period == 1 or not use_seasonal:\n",
    "        f = pd.Series(np.repeat(series_train[-1:],h))\n",
    "        \n",
    "    else:\n",
    "        f = pd.Series(np.tile(series_train[(len(series_train)-period):], \n",
    "                              (1,int(np.ceil(h/period))) ).flatten()[:h])   \n",
    "        \n",
    "    f.index = series_test.index\n",
    "    return f"
   ]
  },
  {
   "cell_type": "code",
   "execution_count": null,
   "id": "354f9528",
   "metadata": {},
   "outputs": [],
   "source": [
    "def make_trend_dummies(series_train, period=1, \n",
    "                        use_trend=True, use_seasonal=True,\n",
    "                      use_mult_seas=False):\n",
    "    if use_trend:\n",
    "        trend_gen = TimeTrend(constant=True, order=1)\n",
    "        trend_df = trend_gen.in_sample(series_train.index)\n",
    "    else:  # just a constant, ie overal series mean\n",
    "        trend_gen = TimeTrend(constant=True, order=0)\n",
    "        trend_df = trend_gen.in_sample(series_train.index)\n",
    "        \n",
    "    if use_seasonal and period > 1:\n",
    "        seas_gen = Seasonality(period)\n",
    "        seas_df = seas_gen.in_sample(series_train.index)\n",
    "        seas_df.columns = ['S'+str(i+1) for i in range(period) ]\n",
    "        seas_df.drop(columns='S1', inplace=True)\n",
    "        \n",
    "        if use_mult_seas and use_trend:\n",
    "            mult_df = pd.DataFrame([seas_df['S'+str(m)]*trend_df['trend'] for m in range(2,period+1)]).transpose()  \n",
    "            trend_df = pd.concat([trend_df, seas_df, mult_df], axis=1)\n",
    "        else:\n",
    "            trend_df = pd.concat([trend_df, seas_df], axis=1)\n",
    "        \n",
    "        \n",
    "    return trend_df\n"
   ]
  },
  {
   "cell_type": "code",
   "execution_count": null,
   "id": "48096e09",
   "metadata": {},
   "outputs": [],
   "source": [
    "def simple_reg_forecast(series_train, series_test, h=1, period=1, \n",
    "                   use_trend=True, use_seasonal=True, use_mult_seas=False):\n",
    "    \n",
    "    exog = make_trend_dummies(series_train, period=period,\n",
    "                              use_trend=use_trend, use_seasonal=use_seasonal, \n",
    "                              use_mult_seas=use_mult_seas)\n",
    "    exog_predict = make_trend_dummies(series_test, period=period,\n",
    "                              use_trend=use_trend, use_seasonal=use_seasonal, \n",
    "                              use_mult_seas=use_mult_seas).iloc[:h]\n",
    "    \n",
    "    res = sm.OLS(series_train, exog).fit()\n",
    "    return res.predict(exog_predict)"
   ]
  },
  {
   "cell_type": "code",
   "execution_count": null,
   "id": "9fb045d4",
   "metadata": {},
   "outputs": [],
   "source": []
  },
  {
   "cell_type": "markdown",
   "id": "f1b03592",
   "metadata": {},
   "source": [
    "## Generate forecast pool"
   ]
  },
  {
   "cell_type": "code",
   "execution_count": null,
   "id": "8aaf2a0c",
   "metadata": {},
   "outputs": [],
   "source": [
    "h = 5\n",
    "per = 7\n",
    "\n",
    "tr_len = 43\n",
    "series_train = bikes_roll.Brooklyn_Bridge.iloc[:tr_len]\n",
    "series_val = bikes_roll.Brooklyn_Bridge.iloc[tr_len:(tr_len+h)]\n",
    "series_test = bikes_roll.Brooklyn_Bridge.iloc[(tr_len+h):(tr_len+h+h)]\n",
    "\n",
    "series_name = 'bikes_roll.Brooklyn_Bridge'\n",
    "series_target = 'raw_count'\n",
    "\n",
    "forecast_pool = []"
   ]
  },
  {
   "cell_type": "code",
   "execution_count": null,
   "id": "2e585e28",
   "metadata": {},
   "outputs": [],
   "source": [
    "series_train.shape"
   ]
  },
  {
   "cell_type": "markdown",
   "id": "0025619b",
   "metadata": {},
   "source": [
    "### naive forecasts"
   ]
  },
  {
   "cell_type": "code",
   "execution_count": null,
   "id": "74ed7742",
   "metadata": {},
   "outputs": [],
   "source": [
    "tmp_dict = {'runUUID': uuid.uuid1(),\n",
    "                'seriesName': series_name,\n",
    "                'seriesPeriod': per,\n",
    "                'seriesTarget': series_target,\n",
    "                'modelFamily': 'Naive',\n",
    "                'exogX': None,\n",
    "                'modelParams': {'use_seasonal':False},\n",
    "                'forecastHorizon': h,\n",
    "                'forecastResult': naive_forecast(series_train, series_test, h, per, use_seasonal=False)\n",
    "               }\n",
    "forecast_pool.append(tmp_dict)\n",
    "\n",
    "tmp_dict = {'runUUID': uuid.uuid1(),\n",
    "                'seriesName': series_name,\n",
    "                'seriesPeriod': per,\n",
    "                'seriesTarget': series_target,\n",
    "                'modelFamily': 'Naive',\n",
    "                'exogX': None,\n",
    "                'modelParams': {'use_seasonal':True},\n",
    "                'forecastHorizon': h,\n",
    "                'forecastResult': naive_forecast(series_train, series_test, h, per, use_seasonal=True)\n",
    "               }\n",
    "forecast_pool.append(tmp_dict)"
   ]
  },
  {
   "cell_type": "code",
   "execution_count": null,
   "id": "4b9847ee",
   "metadata": {},
   "outputs": [],
   "source": [
    "len(forecast_pool)"
   ]
  },
  {
   "cell_type": "markdown",
   "id": "f6f33b81",
   "metadata": {},
   "source": [
    "### simple regression models \n",
    "Trend and seasonal dummies\n",
    "(uncorrelated errors)"
   ]
  },
  {
   "cell_type": "code",
   "execution_count": null,
   "id": "54421f8f",
   "metadata": {},
   "outputs": [],
   "source": [
    "# just the series level average\n",
    "tmp_dict = {'runUUID': uuid.uuid1(),\n",
    "                'seriesName': series_name,\n",
    "                'seriesPeriod': per,\n",
    "                'seriesTarget': series_target,\n",
    "                'modelFamily': 'Regression',\n",
    "                'exogX': None,\n",
    "                'modelParams': {'use_trend': False, 'use_seasonal':False, 'use_mult_seas':False},\n",
    "                'forecastHorizon': h,\n",
    "                'forecastResult': simple_reg_forecast(series_train, series_test, h=h, period=per, \n",
    "                   use_trend=False, use_seasonal=False, use_mult_seas=False)\n",
    "               }\n",
    "forecast_pool.append(tmp_dict)\n",
    "\n",
    "# linear trend regression\n",
    "tmp_dict = {'runUUID': uuid.uuid1(),\n",
    "                'seriesName': series_name,\n",
    "                'seriesPeriod': per,\n",
    "                'seriesTarget': series_target,\n",
    "                'modelFamily': 'Regression',\n",
    "                'exogX': None,\n",
    "                'modelParams': {'use_trend': True, 'use_seasonal':False,'use_mult_seas':False},\n",
    "                'forecastHorizon': h,\n",
    "                'forecastResult': simple_reg_forecast(series_train, series_test, h=h, period=per, \n",
    "                   use_trend=True, use_seasonal=False, use_mult_seas=False)\n",
    "               }\n",
    "forecast_pool.append(tmp_dict)\n",
    "\n",
    "# constant + seasonal dummies\n",
    "tmp_dict = {'runUUID': uuid.uuid1(),\n",
    "                'seriesName': series_name,\n",
    "                'seriesPeriod': per,\n",
    "                'seriesTarget': series_target,\n",
    "                'modelFamily': 'Regression',\n",
    "                'exogX': None,\n",
    "                'modelParams': {'use_trend': False, 'use_seasonal':True,'use_mult_seas':False},\n",
    "                'forecastHorizon': h,\n",
    "                'forecastResult': simple_reg_forecast(series_train, series_test, h=h, period=per, \n",
    "                   use_trend=False, use_seasonal=True, use_mult_seas=False)\n",
    "               }\n",
    "forecast_pool.append(tmp_dict)\n",
    "\n",
    "\n",
    "# linear trend with seasonal dummies\n",
    "tmp_dict = {'runUUID': uuid.uuid1(),\n",
    "                'seriesName': series_name,\n",
    "                'seriesPeriod': per,\n",
    "                'seriesTarget': series_target,\n",
    "                'modelFamily': 'Regression',\n",
    "                'exogX': None,\n",
    "                'modelParams': {'use_trend': True, 'use_seasonal':True,'use_mult_seas':False},\n",
    "                'forecastHorizon': h,\n",
    "                'forecastResult': simple_reg_forecast(series_train, series_test, h=h, period=per, \n",
    "                   use_trend=True, use_seasonal=True, use_mult_seas=False)\n",
    "               }\n",
    "forecast_pool.append(tmp_dict)\n",
    "\n",
    "# linear trend, seasonal dummies, and interaction effects trend*dummies\n",
    "tmp_dict = {'runUUID': uuid.uuid1(),\n",
    "                'seriesName': series_name,\n",
    "                'seriesPeriod': per,\n",
    "                'seriesTarget': series_target,\n",
    "                'modelFamily': 'Regression',\n",
    "                'exogX': None,\n",
    "                'modelParams': {'use_trend': True, 'use_seasonal':True,'use_mult_seas':True},\n",
    "                'forecastHorizon': h,\n",
    "                'forecastResult': simple_reg_forecast(series_train, series_test, h=h, period=per, \n",
    "                   use_trend=True, use_seasonal=True, use_mult_seas=True)\n",
    "               }\n",
    "forecast_pool.append(tmp_dict)"
   ]
  },
  {
   "cell_type": "code",
   "execution_count": null,
   "id": "0542c32c",
   "metadata": {},
   "outputs": [],
   "source": [
    "len(forecast_pool)"
   ]
  },
  {
   "cell_type": "markdown",
   "id": "8cafcdf2",
   "metadata": {},
   "source": [
    "### ARIMA forecasts"
   ]
  },
  {
   "cell_type": "code",
   "execution_count": null,
   "id": "8a5c07ed",
   "metadata": {},
   "outputs": [],
   "source": [
    "p = np.arange(0,5)\n",
    "q = np.arange(0,5)\n",
    "d = np.arange(0,2)\n",
    "orders = list(itertools.product(p,d,q))\n",
    "orders.remove((0,0,0))\n",
    "orders.remove((0,1,0))\n",
    "\n",
    "for o in orders:\n",
    "    tmp_dict = {'runUUID': uuid.uuid1(),\n",
    "                'seriesName': series_name,\n",
    "                'seriesPeriod': per,\n",
    "                'seriesTarget': series_target,\n",
    "                'modelFamily': 'ARIMA',\n",
    "                'exogX': None,\n",
    "                'modelParams': {'p':o[0], 'd':o[1], 'q':o[2]},\n",
    "                'forecastHorizon': h,\n",
    "               }\n",
    "    \n",
    "    try:\n",
    "        mod  = ARIMA(series_train, order=o,\n",
    "                enforce_invertibility=False,\n",
    "                enforce_stationarity=False,)\n",
    "        res  = mod.fit(method_kwargs={'maxiter':1000, \"warn_convergence\": False})\n",
    "        tmp_dict['forecastResult'] = res.forecast(h)\n",
    "        \n",
    "    except:\n",
    "        tmp_dict['forecastResult'] = None\n",
    "        \n",
    "    forecast_pool.append(tmp_dict)"
   ]
  },
  {
   "cell_type": "markdown",
   "id": "eaf85407",
   "metadata": {},
   "source": [
    "### SES"
   ]
  },
  {
   "cell_type": "code",
   "execution_count": null,
   "id": "315df011",
   "metadata": {},
   "outputs": [],
   "source": [
    "alpha = np.arange(0.1,1.0,0.1)\n",
    "mod  = SimpleExpSmoothing(series_train, initialization_method=\"heuristic\")\n",
    "\n",
    "for a in alpha:\n",
    "    tmp_dict = {'runUUID': uuid.uuid1(),\n",
    "                'seriesName': series_name,\n",
    "                'seriesPeriod': per,\n",
    "                'seriesTarget': series_target,\n",
    "                'modelFamily': 'SES',\n",
    "                'exogX': None,\n",
    "                'modelParams': {'alpha':a, 'trend': 'constant'},\n",
    "                'forecastHorizon': h,\n",
    "               }\n",
    "    try:\n",
    "        res  = mod.fit(smoothing_level=a)\n",
    "        tmp_dict['forecastResult'] = res.forecast(h)\n",
    "        \n",
    "    except:\n",
    "        tmp_dict['forecastResult'] = None\n",
    "        \n",
    "    forecast_pool.append(tmp_dict)    "
   ]
  },
  {
   "cell_type": "code",
   "execution_count": null,
   "id": "280769fd",
   "metadata": {},
   "outputs": [],
   "source": [
    "len(forecast_pool)"
   ]
  },
  {
   "cell_type": "markdown",
   "id": "d2d2ea28",
   "metadata": {},
   "source": [
    "### Holt-Winters"
   ]
  },
  {
   "cell_type": "code",
   "execution_count": null,
   "id": "fb92b7d2",
   "metadata": {},
   "outputs": [],
   "source": [
    "alpha = np.arange(0.05,.401,0.05)\n",
    "beta = np.arange(0.05,0.201,0.05)\n",
    "\n",
    "params = list(itertools.product(alpha,beta))\n",
    "mod  = Holt(series_train, initialization_method=\"estimated\")\n",
    "modd  = Holt(series_train, damped_trend=True, initialization_method=\"estimated\")\n",
    "\n",
    "for a in params:\n",
    "    tmp_dict = {'runUUID': uuid.uuid1(),\n",
    "                'seriesName': series_name,\n",
    "                'seriesPeriod': per,\n",
    "                'seriesTarget': series_target,\n",
    "                'modelFamily': 'Holt',\n",
    "                'exogX': None,\n",
    "                'modelParams': {'alpha':a[0], 'beta':a[1], 'trend': 'additive', 'damped_trend':False},\n",
    "                'forecastHorizon': h,\n",
    "               }\n",
    "    try:\n",
    "        res  = mod.fit(smoothing_level=a[0], smoothing_trend=a[1])\n",
    "        tmp_dict['forecastResult'] = res.forecast(h)\n",
    "        \n",
    "    except:\n",
    "        tmp_dict['forecastResult'] = None\n",
    "        #print('damped false', a)\n",
    "        \n",
    "    forecast_pool.append(tmp_dict) \n",
    "\n",
    "    # with damped trend (damping param auto-estimated)\n",
    "    tmp_dict = {'runUUID': uuid.uuid1(),\n",
    "                'seriesName': series_name,\n",
    "                'seriesPeriod': per,\n",
    "                'seriesTarget': series_target,\n",
    "                'modelFamily': 'Holt',\n",
    "                'exogX': None,\n",
    "                'modelParams': {'alpha':a[0], 'beta':a[1], 'trend': 'additive','damped_trend':True},\n",
    "                'forecastHorizon': h,\n",
    "               }\n",
    "    try:\n",
    "        res = modd.fit(smoothing_level=a[0], smoothing_trend=a[1])\n",
    "        tmp_dict['forecastResult'] = res.forecast(h)\n",
    "        \n",
    "    except:\n",
    "        tmp_dict['forecastResult'] = None\n",
    "        #print('damped true', a)\n",
    "        \n",
    "    forecast_pool.append(tmp_dict) "
   ]
  },
  {
   "cell_type": "code",
   "execution_count": null,
   "id": "f6276af5",
   "metadata": {},
   "outputs": [],
   "source": [
    "forecast_df = pd.DataFrame(forecast_pool)\n",
    "forecast_df.shape"
   ]
  },
  {
   "cell_type": "code",
   "execution_count": null,
   "id": "bd378c7f",
   "metadata": {},
   "outputs": [],
   "source": [
    "forecast_df.head()"
   ]
  },
  {
   "cell_type": "markdown",
   "id": "fea85d58",
   "metadata": {},
   "source": [
    "## performance metrics"
   ]
  },
  {
   "cell_type": "code",
   "execution_count": null,
   "id": "462f6d41",
   "metadata": {},
   "outputs": [],
   "source": [
    "# from statsmodels.tools.eval_measures import rmse, medianabs, meanabs, iqr\n",
    "for row in range(len(forecast_df.index)):\n",
    "    forecast_df.loc[row,'RMSE'] = rmse(forecast_df.loc[row,'forecastResult'], series_val)\n",
    "    forecast_df.loc[row,'MedianABS'] = medianabs(forecast_df.loc[row,'forecastResult'], series_val)\n",
    "    forecast_df.loc[row,'MeanABS'] = meanabs(forecast_df.loc[row,'forecastResult'], series_val)\n",
    "    forecast_df.loc[row,'IQRE'] = iqr(forecast_df.loc[row,'forecastResult'], series_val)\n",
    "    \n"
   ]
  },
  {
   "cell_type": "code",
   "execution_count": null,
   "id": "5b7ffb96",
   "metadata": {},
   "outputs": [],
   "source": [
    "forecast_df.tail()"
   ]
  },
  {
   "cell_type": "code",
   "execution_count": null,
   "id": "e8803725",
   "metadata": {},
   "outputs": [],
   "source": [
    "forecast_df.columns"
   ]
  },
  {
   "cell_type": "code",
   "execution_count": null,
   "id": "f9c5505b",
   "metadata": {},
   "outputs": [],
   "source": [
    "forecast_df[['RMSE', 'MeanABS', 'MedianABS', 'IQRE']].plot(figsize=(9,7))"
   ]
  },
  {
   "cell_type": "code",
   "execution_count": null,
   "id": "46dcb313",
   "metadata": {},
   "outputs": [],
   "source": [
    "forecast_df.sort_values(by='RMSE').head(10)"
   ]
  },
  {
   "cell_type": "markdown",
   "id": "f66e177b",
   "metadata": {},
   "source": [
    "## forecast combination"
   ]
  },
  {
   "cell_type": "code",
   "execution_count": null,
   "id": "52a58ec1",
   "metadata": {},
   "outputs": [],
   "source": [
    "K = len(forecast_df.index)\n",
    "for k in [3,5,10,20,]:\n",
    "    avg_forecast = pd.concat([r for r in forecast_df.sort_values(by='RMSE').forecastResult[:k]], axis=1).mean(axis=1)\n",
    "    forecast_df.loc[len(forecast_df.index)] = {'runUUID': uuid.uuid1(),\n",
    "                'seriesName': series_name,\n",
    "                'seriesPeriod': per,\n",
    "                'seriesTarget': series_target,\n",
    "                'modelFamily': 'Combination',\n",
    "                'modelParams': {'weight':'equal', 'topk':k, 'metric':'RMSE'},\n",
    "                'forecastHorizon': h, 'forecastResult': avg_forecast,\n",
    "                'RMSE': rmse(forecast_df.loc[row,'forecastResult'], series_test),\n",
    "                'MedianABS': medianabs(forecast_df.loc[row,'forecastResult'], series_test),\n",
    "                'MeanABS': meanabs(forecast_df.loc[row,'forecastResult'], series_test),\n",
    "                'IQRE': iqr(forecast_df.loc[row,'forecastResult'], series_test),\n",
    "                 }\n",
    "    \n",
    "    avg_forecast = pd.concat([r for r in forecast_df.sort_values(by='MedianABS').forecastResult[:k]], axis=1).mean(axis=1)\n",
    "    forecast_df.loc[len(forecast_df.index)] = {'runUUID': uuid.uuid1(),\n",
    "                'seriesName': series_name,\n",
    "                'seriesPeriod': per,\n",
    "                'seriesTarget': series_target,\n",
    "                'modelFamily': 'Combination',\n",
    "                'modelParams': {'weight':'equal', 'topk':k, 'metric':'MedianABS'},\n",
    "                'forecastHorizon': h, 'forecastResult': avg_forecast,\n",
    "                'RMSE': rmse(forecast_df.loc[row,'forecastResult'], series_test),\n",
    "                'MedianABS': medianabs(forecast_df.loc[row,'forecastResult'], series_test),\n",
    "                'MeanABS': meanabs(forecast_df.loc[row,'forecastResult'], series_test),\n",
    "                'IQRE': iqr(forecast_df.loc[row,'forecastResult'], series_test),\n",
    "                 }"
   ]
  },
  {
   "cell_type": "code",
   "execution_count": null,
   "id": "b4bbca4c",
   "metadata": {},
   "outputs": [],
   "source": [
    "ax = series_train.plot( figsize=(10,7))\n",
    "\n",
    "for f in forecast_df.forecastResult[:len(forecast_df.index)-8]:\n",
    "    if f is not None:\n",
    "        f.plot(ax=ax, color='gray')\n",
    "for f in forecast_df.forecastResult[len(forecast_df.index)-8:len(forecast_df.index)-4]:\n",
    "    if f is not None:\n",
    "        f.plot(ax=ax, color='red')\n",
    "\n",
    "for f in forecast_df.forecastResult[len(forecast_df.index)-4:]:\n",
    "    if f is not None:\n",
    "        f.plot(ax=ax, color='purple')\n",
    "\n",
    "series_val.plot(ax=ax, color='green')\n",
    "forecast_df.forecastResult[len(forecast_df.index)-1].plot(ax=ax, color='red')\n",
    "#plt.xlim(pd.to_datetime('2017-03-27'), pd.to_datetime('2017-07-17'))"
   ]
  },
  {
   "cell_type": "code",
   "execution_count": null,
   "id": "0453672f",
   "metadata": {},
   "outputs": [],
   "source": [
    "len(forecast_df.forecastResult)"
   ]
  },
  {
   "cell_type": "code",
   "execution_count": null,
   "id": "01812714",
   "metadata": {},
   "outputs": [],
   "source": [
    "forecast_df.sort_values(by='MedianABS').head(10)"
   ]
  },
  {
   "cell_type": "code",
   "execution_count": null,
   "id": "32618e2f",
   "metadata": {},
   "outputs": [],
   "source": [
    "forecast_df[forecast_df['modelFamily']=='Combination'].sort_values(by='RMSE').head(10)"
   ]
  },
  {
   "cell_type": "code",
   "execution_count": null,
   "id": "f3a8030e",
   "metadata": {},
   "outputs": [],
   "source": [
    "forecast_df.shape"
   ]
  },
  {
   "cell_type": "code",
   "execution_count": null,
   "id": "518fc563",
   "metadata": {},
   "outputs": [],
   "source": [
    "# from statsmodels.tools.eval_measures import rmse, medianabs, meanabs, iqr\n",
    "for row in range(len(forecast_df.index)):\n",
    "    forecast_df.loc[row,'RMSE'] = rmse(forecast_df.loc[row,'forecastResult'], series_val)\n",
    "    forecast_df.loc[row,'MedianABS'] = medianabs(forecast_df.loc[row,'forecastResult'], series_val)\n",
    "    forecast_df.loc[row,'MeanABS'] = meanabs(forecast_df.loc[row,'forecastResult'], series_val)\n",
    "    forecast_df.loc[row,'IQRE'] = iqr(forecast_df.loc[row,'forecastResult'], series_val)\n",
    "    \n"
   ]
  },
  {
   "cell_type": "code",
   "execution_count": null,
   "id": "6dbe47cd",
   "metadata": {},
   "outputs": [],
   "source": [
    "forecast_df[['RMSE', 'MeanABS', 'MedianABS', 'IQRE']].plot(figsize=(9,7))"
   ]
  },
  {
   "cell_type": "code",
   "execution_count": null,
   "id": "5c02995f",
   "metadata": {},
   "outputs": [],
   "source": []
  }
 ],
 "metadata": {
  "kernelspec": {
   "display_name": "Python 3 (ipykernel)",
   "language": "python",
   "name": "python3"
  },
  "language_info": {
   "codemirror_mode": {
    "name": "ipython",
    "version": 3
   },
   "file_extension": ".py",
   "mimetype": "text/x-python",
   "name": "python",
   "nbconvert_exporter": "python",
   "pygments_lexer": "ipython3",
   "version": "3.8.12"
  }
 },
 "nbformat": 4,
 "nbformat_minor": 5
}
