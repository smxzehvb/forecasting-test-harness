{
 "cells": [
  {
   "cell_type": "code",
   "execution_count": null,
   "id": "df98ff35",
   "metadata": {},
   "outputs": [],
   "source": [
    "import math\n",
    "import numpy as np\n",
    "import pandas as pd\n",
    "import matplotlib\n",
    "import matplotlib.pyplot as plt\n",
    "plt.style.use('seaborn-darkgrid')"
   ]
  },
  {
   "cell_type": "code",
   "execution_count": null,
   "id": "4e03214e",
   "metadata": {},
   "outputs": [],
   "source": [
    "import statsmodels.api as sm\n",
    "import statsmodels.discrete.discrete_model as dm\n",
    "from patsy import dmatrices\n",
    "import statsmodels.graphics.tsaplots as tsa\n",
    "from statsmodels.base.model import GenericLikelihoodModel\n",
    "from scipy.stats import poisson\n",
    "from scipy.stats import binom\n",
    "from statsmodels.tsa.deterministic import TimeTrend, Seasonality"
   ]
  },
  {
   "cell_type": "code",
   "execution_count": null,
   "id": "a1c40826",
   "metadata": {},
   "outputs": [],
   "source": [
    "# data\n",
    "# https://data.cityofnewyork.us/Transportation/Bicycle-Counts-for-East-River-Bridges-Historical-/gua4-p9wg"
   ]
  },
  {
   "cell_type": "code",
   "execution_count": null,
   "id": "8f00c904",
   "metadata": {},
   "outputs": [],
   "source": [
    "bikes = pd.read_csv('bikes.csv', header=0, index_col='Date',)"
   ]
  },
  {
   "cell_type": "code",
   "execution_count": null,
   "id": "5c0bef90",
   "metadata": {},
   "outputs": [],
   "source": [
    "bikes.index = pd.to_datetime(bikes.index,)"
   ]
  },
  {
   "cell_type": "code",
   "execution_count": null,
   "id": "ebb5f087",
   "metadata": {},
   "outputs": [],
   "source": [
    "pd.infer_freq(bikes.index)"
   ]
  },
  {
   "cell_type": "code",
   "execution_count": null,
   "id": "ed9354df",
   "metadata": {},
   "outputs": [],
   "source": [
    "bikes.shape"
   ]
  },
  {
   "cell_type": "code",
   "execution_count": null,
   "id": "f4324a06",
   "metadata": {},
   "outputs": [],
   "source": [
    "bikes = np.floor(bikes/100).astype(int)"
   ]
  },
  {
   "cell_type": "code",
   "execution_count": null,
   "id": "b4a22c3b",
   "metadata": {},
   "outputs": [],
   "source": [
    "bikes.tail()"
   ]
  },
  {
   "cell_type": "code",
   "execution_count": null,
   "id": "b503b054",
   "metadata": {},
   "outputs": [],
   "source": [
    "ax = bikes.Manhattan_Bridge.plot(figsize=(9,6), lw=1, color='r' )\n",
    "plt.title('Daily bikes Manhattan Bridge')"
   ]
  },
  {
   "cell_type": "code",
   "execution_count": null,
   "id": "96703c58",
   "metadata": {},
   "outputs": [],
   "source": [
    "\n",
    "train_len = 145\n",
    "h = 13\n",
    "bikes_train = bikes.iloc[:train_len]\n",
    " \n",
    "bikes_test = bikes.iloc[train_len:(train_len+h)]\n",
    "bikes_test.shape"
   ]
  },
  {
   "cell_type": "code",
   "execution_count": null,
   "id": "c5c722d0",
   "metadata": {},
   "outputs": [],
   "source": [
    "bikes_train.tail()"
   ]
  },
  {
   "cell_type": "code",
   "execution_count": null,
   "id": "4c3e2cf8",
   "metadata": {},
   "outputs": [],
   "source": [
    "bikes_test.head()"
   ]
  },
  {
   "cell_type": "code",
   "execution_count": null,
   "id": "6be64efa",
   "metadata": {},
   "outputs": [],
   "source": [
    "pd.Timedelta(1,unit='D')"
   ]
  },
  {
   "cell_type": "markdown",
   "id": "1b188569",
   "metadata": {},
   "source": [
    "# Poisson autogregression"
   ]
  },
  {
   "cell_type": "code",
   "execution_count": null,
   "id": "1b0e1fa0",
   "metadata": {},
   "outputs": [],
   "source": [
    "def PoissonAutoRegForecast(endog, p=1, h=1, exog=None, add_one=True):\n",
    "    '''\n",
    "    Code development based on this post: \n",
    "    https://timeseriesreasoning.com/contents/poisson-regression-models-for-time-series-data/\n",
    "    \n",
    "    Parameters\n",
    "    ----------\n",
    "    endog: pd.Series\n",
    "        The endogenous time series to forecast.\n",
    "    p: int, optional, default =1\n",
    "        The order of the Autoregression model.\n",
    "    h: int, optional, default =1\n",
    "        The forecast horizon.\n",
    "    exog: pd.DataFrame or pd.Series, optional, default =None\n",
    "        The exogenous covariates, if any. Note in thsi function you must use exog\n",
    "        argument to feed in the training set and the predicton set in one Series/DataFrame.\n",
    "    add_one: bool, optional, default =True\n",
    "        Whether to add one to all counts to avoid taking the log of zeros.\n",
    "    '''\n",
    "    \n",
    "    ## create the log lagged values\n",
    "    log_lag_endog = pd.concat([np.log(endog+int(add_one)).shift(a) for a in range(1,p+1)], axis=1).dropna()\n",
    "    log_lag_endog.columns = ['log_lag'+str(a) for a in range(1,p+1)]\n",
    "    # concat with other exog variables\n",
    "    if exog is not None:\n",
    "        exog_with_lags = pd.concat([log_lag_endog, exog], axis=1).dropna()\n",
    "    else:\n",
    "        exog_with_lags = log_lag_endog\n",
    "    \n",
    "    # add an intercept\n",
    "    exog_with_lags.insert(loc=0, column= 'intercept', value=1)\n",
    "    # trim the data to account for taking the lags\n",
    "    endog = endog.iloc[endog.index.isin(exog_with_lags.index)]\n",
    "    # fit the Poissin GLM\n",
    "    poisson_model = dm.Poisson(endog=endog, exog=exog_with_lags).fit(maxiter=300)\n",
    "    \n",
    "    # recursive forecast\n",
    "    for c in range(1,h+1):\n",
    "        # find the next time steps in the exog df to use as predictors\n",
    "        if exog is not None:\n",
    "            exog_predict = np.array((1, *np.log(endog[-p:]),\n",
    "                            *exog.loc[endog.index[-1]+pd.Timedelta(1,pd.infer_freq(endog.index))] ) )\n",
    "        else:\n",
    "            exog_predict = np.array((1, *np.log(endog[-p:] )) )\n",
    "            \n",
    "        # multiply the model parameters by the covariates for the next time step    \n",
    "        pred = np.exp(\n",
    "               np.sum(\n",
    "                   poisson_model.params * exog_predict\n",
    "                   ) )\n",
    "        endog.loc[ endog.index[-1] + pd.Timedelta(1, pd.infer_freq(endog.index))] = pred\n",
    "    \n",
    "    # return the forecast\n",
    "    return endog[-h:]\n",
    "    \n",
    "    "
   ]
  },
  {
   "cell_type": "code",
   "execution_count": null,
   "id": "3a9973be",
   "metadata": {},
   "outputs": [],
   "source": [
    "trend_gen = TimeTrend(constant=False, order=2)\n",
    "trend_df = trend_gen.in_sample(bikes.index)\n",
    "seas_gen = Seasonality(period=7)\n",
    "seas_df = seas_gen.in_sample(bikes.index)\n",
    "#test_df = trend_gen.in_sample(bikes_test.index)\n",
    "seas_df.drop(columns='s(1,7)', inplace=True)"
   ]
  },
  {
   "cell_type": "code",
   "execution_count": null,
   "id": "727c613a",
   "metadata": {},
   "outputs": [],
   "source": [
    "p=2\n",
    "add_one=True\n",
    "endog = bikes_train.Brooklyn_Bridge\n",
    "log_lag_endog = pd.concat([np.log(endog+int(add_one)).shift(a) for a in range(1,p+1)], axis=1).dropna()\n",
    "log_lag_endog.columns = ['log_lag'+str(a) for a in range(1,p+1)]\n",
    "log_lag_endog.insert(loc=0, column='intercept', value=1)\n",
    "endog = endog.iloc[endog.index.isin(log_lag_endog.index)]"
   ]
  },
  {
   "cell_type": "code",
   "execution_count": null,
   "id": "6d97259f",
   "metadata": {},
   "outputs": [],
   "source": [
    "exog_with_lags = pd.concat([log_lag_endog, trend_df], axis=1).dropna()"
   ]
  },
  {
   "cell_type": "code",
   "execution_count": null,
   "id": "74955fee",
   "metadata": {},
   "outputs": [],
   "source": [
    "exog_with_lags.tail()"
   ]
  },
  {
   "cell_type": "code",
   "execution_count": null,
   "id": "47115bb4",
   "metadata": {},
   "outputs": [],
   "source": [
    "sm.GLM(endog, exog=exog_with_lags, family=sm.families.Poisson()).fit().summary()"
   ]
  },
  {
   "cell_type": "code",
   "execution_count": null,
   "id": "a87f5d49",
   "metadata": {},
   "outputs": [],
   "source": [
    "poisson_model = dm.Poisson(endog=endog, exog=exog_with_lags).fit(maxiter=300)"
   ]
  },
  {
   "cell_type": "code",
   "execution_count": null,
   "id": "11c3d8fd",
   "metadata": {},
   "outputs": [],
   "source": [
    "poisson_model.summary()"
   ]
  },
  {
   "cell_type": "code",
   "execution_count": null,
   "id": "95efe73c",
   "metadata": {},
   "outputs": [],
   "source": [
    "poisson_model.params"
   ]
  },
  {
   "cell_type": "code",
   "execution_count": null,
   "id": "8f014ea2",
   "metadata": {},
   "outputs": [],
   "source": [
    "pd.infer_freq(endog.index)"
   ]
  },
  {
   "cell_type": "code",
   "execution_count": null,
   "id": "17bffe39",
   "metadata": {},
   "outputs": [],
   "source": [
    "endog.index[-1]+pd.Timedelta(1,'D')"
   ]
  },
  {
   "cell_type": "code",
   "execution_count": null,
   "id": "41d10e27",
   "metadata": {},
   "outputs": [],
   "source": [
    "trend_df.loc[endog.index[-1]+pd.Timedelta(1,'D')]"
   ]
  },
  {
   "cell_type": "code",
   "execution_count": null,
   "id": "bdaefa2f",
   "metadata": {},
   "outputs": [],
   "source": [
    "poisson_model = dm.Poisson(endog=endog, exog=log_lag_endog).fit(maxiter=100)"
   ]
  },
  {
   "cell_type": "code",
   "execution_count": null,
   "id": "235a38af",
   "metadata": {},
   "outputs": [],
   "source": [
    "np.exp(poisson_model.params[0] + poisson_model.params[1]*np.log(bikes_train.Brooklyn_Bridge[-1]) )"
   ]
  },
  {
   "cell_type": "code",
   "execution_count": null,
   "id": "a2fa4a38",
   "metadata": {},
   "outputs": [],
   "source": [
    "np.sum(poisson_model.params * np.array((1, *np.log(bikes_train.Brooklyn_Bridge[-2]), \n",
    "                                        *trend_df.loc[endog.index[-1]+pd.Timedelta(1,'D')][:] ) ) )"
   ]
  },
  {
   "cell_type": "code",
   "execution_count": null,
   "id": "58ceeec0",
   "metadata": {},
   "outputs": [],
   "source": [
    "poisson_model.params*np.array( (1, *np.log(bikes_train.Brooklyn_Bridge[-2:]),\n",
    "           *trend_df.loc[endog.index[-1]+pd.Timedelta(1,'D')] ) )"
   ]
  },
  {
   "cell_type": "code",
   "execution_count": null,
   "id": "ea5ea6d9",
   "metadata": {},
   "outputs": [],
   "source": [
    "trend_df.loc[endog.index[-1]+pd.Timedelta(1,'D')][:]"
   ]
  },
  {
   "cell_type": "code",
   "execution_count": null,
   "id": "97d8d709",
   "metadata": {},
   "outputs": [],
   "source": [
    "np.log(bikes_train.Brooklyn_Bridge[-2:])[:]"
   ]
  },
  {
   "cell_type": "code",
   "execution_count": null,
   "id": "751ede98",
   "metadata": {},
   "outputs": [],
   "source": [
    "pois_cast = PoissonAutoRegForecast(bikes_train.Manhattan_Bridge, p=5, h=14, exog=seas_df)"
   ]
  },
  {
   "cell_type": "code",
   "execution_count": null,
   "id": "2158f59a",
   "metadata": {},
   "outputs": [],
   "source": [
    "ax = bikes_train.Manhattan_Bridge.plot(figsize=(9,7))\n",
    "pois_cast.plot(ax=ax, color='r')\n",
    "bikes_test.Manhattan_Bridge.plot(ax=ax, color='k')"
   ]
  },
  {
   "cell_type": "code",
   "execution_count": null,
   "id": "2442db58",
   "metadata": {},
   "outputs": [],
   "source": [
    "pois_cast = PoissonAutoRegForecast(bikes_train.Queensboro_Bridge, p=5, h=14, exog=seas_df)"
   ]
  },
  {
   "cell_type": "code",
   "execution_count": null,
   "id": "36b1587b",
   "metadata": {},
   "outputs": [],
   "source": [
    "ax = bikes_train.Queensboro_Bridge.plot(figsize=(9,7))\n",
    "pois_cast.plot(ax=ax, color='r')\n",
    "bikes_test.Queensboro_Bridge.plot(ax=ax, color='k')"
   ]
  },
  {
   "cell_type": "markdown",
   "id": "031094ba",
   "metadata": {},
   "source": [
    "# Poisson INAR(p)\n",
    "https://timeseriesreasoning.com/contents/the-poisson-inar1-regression-model/"
   ]
  },
  {
   "cell_type": "code",
   "execution_count": null,
   "id": "9ec00902",
   "metadata": {},
   "outputs": [],
   "source": [
    "# strikes dataset\n",
    "strikes_dataset = sm.datasets.get_rdataset(dataname='StrikeNb', package='Ecdat')\n"
   ]
  },
  {
   "cell_type": "code",
   "execution_count": null,
   "id": "b1284af6",
   "metadata": {},
   "outputs": [],
   "source": [
    "strikes_data = strikes_dataset.data.copy()\n",
    "strikes_data_train = strikes_data.query('time<=92')\n",
    "strikes_data_test = strikes_data.query('time>92').reset_index().drop('index', axis=1)\n",
    "strikes_data.head()"
   ]
  },
  {
   "cell_type": "code",
   "execution_count": null,
   "id": "cc4bf2a3",
   "metadata": {},
   "outputs": [],
   "source": [
    "expr = 'strikes ~ output'\n",
    "y_train, X_train = dmatrices(expr, strikes_data_train, return_type='dataframe')\n",
    "y_test, X_test = dmatrices(expr, strikes_data_test, return_type='dataframe')"
   ]
  },
  {
   "cell_type": "code",
   "execution_count": null,
   "id": "c878df50",
   "metadata": {},
   "outputs": [],
   "source": [
    "class INAR(GenericLikelihoodModel):\n",
    "    def __init__(self, endog, exog, **kwds):\n",
    "        super(INAR, self).__init__(endog, exog, **kwds)"
   ]
  },
  {
   "cell_type": "code",
   "execution_count": null,
   "id": "4d0bdbad",
   "metadata": {},
   "outputs": [],
   "source": [
    "class PoissonINAR(GenericLikelihoodModel):\n",
    "    def __init__(self, endog, exog, **kwds):\n",
    "        super(PoissonINAR, self).__init__(endog, exog, **kwds)\n",
    "        \n",
    "    def nloglikeobs(self, params):\n",
    "        #Fetch the parameters gamma and beta \n",
    "        #that we would be optimizing\n",
    "        gamma = params[-1]\n",
    "        beta = params[:-1]\n",
    "         \n",
    "        #Set y and X\n",
    "        y = self.endog\n",
    "        y = np.array(y)\n",
    "        X = self.exog\n",
    "         \n",
    "        #Compute rho as a function of gamma\n",
    "        rho = 1.0/(1.0+math.exp(-gamma))\n",
    "         \n",
    "        #Compute the Poisson mean mu as the exponentiated dot \n",
    "        #product of X and Beta\n",
    "        mu = np.exp(X.dot(beta))\n",
    "        #Init the list of log-likelihhod values, \n",
    "        #one value for each y\n",
    "        ll = []\n",
    "        \n",
    "        #Compute all the log-likelihood values for \n",
    "        #the Poisson INAR(1) model\n",
    "        for t in range(len(y)-1,0,-1):\n",
    "            prob_y_t = 0\n",
    "            for j in range(int(min(y[t], y[t-1])+1)):\n",
    "                prob_y_t += poisson.pmf((y[t]-j), mu[t]) * binom.pmf(j, y[t-1], rho)\n",
    "            ll.append(np.log(prob_y_t))\n",
    "        ll = np.array(ll)\n",
    "        #return the negated array of log-likelihoods\n",
    "        return -ll\n",
    "    #Let’s also implement the model.fit() method:\n",
    "\n",
    "    def fit(self, start_params=None, maxiter=1000, maxfun=5000, **kwds):\n",
    "    #Add the gamma parameter to the list of \n",
    "    #exogneous variables that the model will optimize\n",
    "        self.exog_names.append('gamma')\n",
    "        \n",
    "        if start_params == None:\n",
    "            #Start with some initial values of Beta and gamma\n",
    "            start_params = np.append(np.ones(self.exog.shape[1]), 1.0)\n",
    "            \n",
    "        #Call super.fit() to start the training\n",
    "            return super(PoissonINAR, self).fit(start_params=start_params,\n",
    "                maxiter=maxiter, maxfun=maxfun, **kwds)\n",
    "        \n",
    "    def predict(self, params, exog=None, *args, **kwargs):\n",
    "        #Fetch the optimized values of parameters gamma and beta\n",
    "        fitted_gamma = params[-1]\n",
    "        fitted_beta = params[:-1]\n",
    "        \n",
    "        #Compute rho as a function of gamma\n",
    "        rho = 1.0/(1.0+math.exp(-fitted_gamma))\n",
    "        \n",
    "        #Get the Intercept and the regression variables,\n",
    "        #Don't get the last column which contains the lagged y values\n",
    "        X = exog[:,:-1]\n",
    "        #Fetch the lagged y values\n",
    "        y_lag_1 = exog[:,-1]\n",
    "        \n",
    "        #Compute the predicted y using the fitted Poisson INAR(1) \n",
    "        #model's equation\n",
    "        y_pred = rho * y_lag_1 + np.exp(X.dot(fitted_beta))\n",
    "        \n",
    "        return y_pred"
   ]
  },
  {
   "cell_type": "code",
   "execution_count": null,
   "id": "c94f8624",
   "metadata": {},
   "outputs": [],
   "source": [
    "inar_model = PoissonINAR(y_train, X_train)\n",
    "inar_model_results = inar_model.fit()"
   ]
  },
  {
   "cell_type": "code",
   "execution_count": null,
   "id": "e9695f1f",
   "metadata": {},
   "outputs": [],
   "source": [
    "inar_model_results.summary()"
   ]
  },
  {
   "cell_type": "code",
   "execution_count": null,
   "id": "52d02e70",
   "metadata": {},
   "outputs": [],
   "source": []
  }
 ],
 "metadata": {
  "kernelspec": {
   "display_name": "Python 3 (ipykernel)",
   "language": "python",
   "name": "python3"
  },
  "language_info": {
   "codemirror_mode": {
    "name": "ipython",
    "version": 3
   },
   "file_extension": ".py",
   "mimetype": "text/x-python",
   "name": "python",
   "nbconvert_exporter": "python",
   "pygments_lexer": "ipython3",
   "version": "3.8.12"
  }
 },
 "nbformat": 4,
 "nbformat_minor": 5
}
